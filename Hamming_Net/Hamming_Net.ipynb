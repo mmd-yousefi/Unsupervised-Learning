{
 "cells": [
  {
   "cell_type": "code",
   "execution_count": 2,
   "metadata": {},
   "outputs": [],
   "source": [
    "import numpy as np\n",
    "import matplotlib.pyplot as plt"
   ]
  },
  {
   "cell_type": "code",
   "execution_count": 48,
   "metadata": {},
   "outputs": [],
   "source": [
    "def Hamming_dis(V1,V2):\n",
    "    hammig_distance = np.sum(np.not_equal(V1,V2).astype(int))\n",
    "    return hammig_distance\n",
    "\n",
    "def create_w(N,eps):\n",
    "    w = (np.zeros((N,N)) - eps)\n",
    "    np.fill_diagonal(w,1)\n",
    "    return w\n",
    "\n",
    "def num(x):\n",
    "    N = np.count_nonzero(x)\n",
    "    return N\n",
    "\n",
    "def act_func(input, threshod=0):\n",
    "    y = np.copy(input)\n",
    "    y[y<threshod ] = 0\n",
    "    return y\n",
    "\n",
    "def find_max_index(x):\n",
    "    index = np.nonzero(x)[1].item()\n",
    "    return index\n",
    "\n",
    "def maxnet(input):\n",
    "    x = np.copy(input)\n",
    "    eps = 0.2\n",
    "    w = create_w(x.shape[1],eps)\n",
    "    N = num(x)\n",
    "    i = 0\n",
    "    while N:\n",
    "        x = act_func(np.dot(x,w))\n",
    "        N = num(x)\n",
    "        i = i+1\n",
    "        if N == 1:\n",
    "            break\n",
    "    index = find_max_index(x)\n",
    "    return index"
   ]
  },
  {
   "cell_type": "code",
   "execution_count": 47,
   "metadata": {},
   "outputs": [
    {
     "name": "stdout",
     "output_type": "stream",
     "text": [
      "[[ 0.5  0.5 -0.5 -0.5]\n",
      " [-0.5 -0.5  0.5  0.5]\n",
      " [ 0.5  0.5 -0.5  0.5]\n",
      " [-0.5 -0.5  0.5  0.5]\n",
      " [ 0.5  0.5 -0.5 -0.5]\n",
      " [-0.5 -0.5  0.5 -0.5]\n",
      " [-0.5 -0.5  0.5  0.5]\n",
      " [ 0.5  0.5  0.5 -0.5]\n",
      " [-0.5 -0.5  0.5 -0.5]\n",
      " [ 0.5 -0.5  0.5 -0.5]\n",
      " [-0.5  0.5 -0.5  0.5]\n",
      " [ 0.5 -0.5  0.5  0.5]]\n"
     ]
    }
   ],
   "source": [
    "X = np.array([[1,-1, 1],[-1, 1,-1],[-1, 1,-1],[1,-1, 1 ]]).reshape(12,1)\n",
    "Y = np.array([[1,-1, 1],[-1, 1,-1],[-1, 1,-1],[-1, 1,-1]]).reshape(12,1)\n",
    "A = np.array([[-1, 1,-1],[1,-1, 1],[1, 1, 1 ],[1,-1, 1 ]]).reshape(12,1)\n",
    "C = np.array([[-1, 1, 1],[1,-1,-1],[1,-1,-1 ],[-1, 1, 1]]).reshape(12,1)\n",
    "\n",
    "reference = [\"X\", \"Y\", \"A\", \"C\"]\n",
    "w = np.concatenate((X/2,Y/2,A/2,C/2),axis=1)\n",
    "print(w)\n",
    "\n"
   ]
  },
  {
   "cell_type": "code",
   "execution_count": 30,
   "metadata": {},
   "outputs": [
    {
     "name": "stdout",
     "output_type": "stream",
     "text": [
      "Hamming Distance between X and Y: 3\n",
      "Hamming Distance between X and A: 8\n",
      "Hamming Distance between X and C: 8\n",
      "Hamming Distance between Y and A: 11\n",
      "Hamming Distance between Y and C: 7\n",
      "Hamming Distance between A and C: 6\n"
     ]
    }
   ],
   "source": [
    "print(\"Hamming Distance between X and Y: {}\".format(Hamming_dis(X,Y)))\n",
    "print(\"Hamming Distance between X and A: {}\".format(Hamming_dis(X,A)))\n",
    "print(\"Hamming Distance between X and C: {}\".format(Hamming_dis(X,C)))\n",
    "print(\"Hamming Distance between Y and A: {}\".format(Hamming_dis(Y,A)))\n",
    "print(\"Hamming Distance between Y and C: {}\".format(Hamming_dis(Y,C)))\n",
    "print(\"Hamming Distance between A and C: {}\".format(Hamming_dis(A,C)))\n",
    "\n",
    "\n"
   ]
  },
  {
   "cell_type": "code",
   "execution_count": 59,
   "metadata": {},
   "outputs": [
    {
     "name": "stdout",
     "output_type": "stream",
     "text": [
      "output of HammingNet:  [[ 8. 11.  2.  6.]]\n",
      "\n",
      "output of MaxNet: 1 ----> Y\n"
     ]
    }
   ],
   "source": [
    "input = np.array([[1, 1, 1],[-1, 1,-1],[-1, 1,-1],[-1, 1,-1]]).reshape(1,12)\n",
    "b = input.shape[1] / 2\n",
    "similarity = np.dot(input,w) + b\n",
    "print(\"output of HammingNet: \",similarity)\n",
    "index = maxnet(similarity)\n",
    "print(\"\\noutput of MaxNet: {} ----> {}\".format(index,reference[index]))"
   ]
  }
 ],
 "metadata": {
  "kernelspec": {
   "display_name": "Python 3.8.6 64-bit",
   "language": "python",
   "name": "python3"
  },
  "language_info": {
   "codemirror_mode": {
    "name": "ipython",
    "version": 3
   },
   "file_extension": ".py",
   "mimetype": "text/x-python",
   "name": "python",
   "nbconvert_exporter": "python",
   "pygments_lexer": "ipython3",
   "version": "3.8.6"
  },
  "orig_nbformat": 4,
  "vscode": {
   "interpreter": {
    "hash": "2469a70536e4d2335a2ea8907942d0699c37342a371ac185bdb5b0aa6f073890"
   }
  }
 },
 "nbformat": 4,
 "nbformat_minor": 2
}
